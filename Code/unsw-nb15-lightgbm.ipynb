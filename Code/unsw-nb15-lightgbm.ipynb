{
 "cells": [
  {
   "cell_type": "code",
   "execution_count": 1,
   "metadata": {
    "_cell_guid": "b1076dfc-b9ad-4769-8c92-a6c4dae69d19",
    "_kg_hide-input": true,
    "_kg_hide-output": true,
    "_uuid": "8f2839f25d086af736a60e9eeb907d3b93b6e0e5"
   },
   "outputs": [
    {
     "name": "stdout",
     "output_type": "stream",
     "text": [
      "/kaggle/input/unsw-nb15-eda/features.csv\n",
      "/kaggle/input/unsw-nb15-eda/test.csv\n",
      "/kaggle/input/unsw-nb15-eda/train.csv\n",
      "/kaggle/input/unsw-nb15/UNSW-NB15_1.csv\n",
      "/kaggle/input/unsw-nb15/UNSW_NB15_testing-set.csv\n",
      "/kaggle/input/unsw-nb15/UNSW_NB15_training-set.csv\n",
      "/kaggle/input/unsw-nb15/UNSW-NB15_4.csv\n",
      "/kaggle/input/unsw-nb15/UNSW-NB15_2.csv\n",
      "/kaggle/input/unsw-nb15/UNSW-NB15_LIST_EVENTS.csv\n",
      "/kaggle/input/unsw-nb15/NUSW-NB15_features.csv\n",
      "/kaggle/input/unsw-nb15/UNSW-NB15_3.csv\n"
     ]
    }
   ],
   "source": [
    "# This Python 3 environment comes with many helpful analytics libraries installed\n",
    "# It is defined by the kaggle/python docker image: https://github.com/kaggle/docker-python\n",
    "# For example, here's several helpful packages to load in \n",
    "import warnings\n",
    "warnings.simplefilter(action='ignore', category=FutureWarning)\n",
    "from sklearn import metrics\n",
    "from sklearn.preprocessing import LabelEncoder, StandardScaler, MinMaxScaler, RobustScaler, Normalizer\n",
    "import seaborn as sns\n",
    "import matplotlib.pyplot as plt\n",
    "import time\n",
    "\n",
    "import numpy as np # linear algebra\n",
    "import pandas as pd # data processing, CSV file I/O (e.g. pd.read_csv)\n",
    "\n",
    "# Input data files are available in the \"../input/\" directory.\n",
    "# For example, running this (by clicking run or pressing Shift+Enter) will list all files under the input directory\n",
    "\n",
    "import os\n",
    "for dirname, _, filenames in os.walk('/kaggle/input'):\n",
    "    for filename in filenames:\n",
    "        if 'csv' in filename:\n",
    "            print(os.path.join(dirname, filename))\n",
    "\n",
    "# Any results you write to the current directory are saved as output."
   ]
  },
  {
   "cell_type": "markdown",
   "metadata": {},
   "source": [
    "# Introduction\n",
    "* [The UNSW-NB15 dataset description](https://www.unsw.adfa.edu.au/unsw-canberra-cyber/cybersecurity/ADFA-NB15-Datasets/)\n",
    "* [Feature visualization and preprocessing](https://www.kaggle.com/khairulislam/unsw-nb15-eda)\n",
    "* [Feature importance using RandomForest classifier](https://www.kaggle.com/khairulislam/unsw-nb15-feature-importance)\n",
    "* [Performance with other classifiers](https://www.kaggle.com/khairulislam/unsw-nb15-anomaly-detection)"
   ]
  },
  {
   "cell_type": "markdown",
   "metadata": {},
   "source": [
    "# Utils"
   ]
  },
  {
   "cell_type": "code",
   "execution_count": 2,
   "metadata": {
    "_kg_hide-input": true
   },
   "outputs": [],
   "source": [
    "def input_train_test():\n",
    "    root = '../input/unsw-nb15/'\n",
    "    train = pd.read_csv(root+'UNSW_NB15_training-set.csv')\n",
    "    test = pd.read_csv(root+'UNSW_NB15_testing-set.csv')\n",
    "    \n",
    "    if train.shape[0] == 82332:\n",
    "        print(\"Train and test sets are reversed here. Fixing them.\")\n",
    "        train, test = test, train\n",
    "    drop_columns = ['attack_cat', 'id']\n",
    "    for df in [train, test]:\n",
    "        for col in drop_columns:\n",
    "            if col in df.columns:\n",
    "                print('Dropping '+col)\n",
    "                df.drop([col], axis=1, inplace=True)\n",
    "    return train, test\n",
    "\n",
    "def get_cat_columns(train):\n",
    "    categorical = []\n",
    "    for col in train.columns:\n",
    "        if train[col].dtype == 'object':\n",
    "            categorical.append(col)\n",
    "    return categorical\n",
    "    \n",
    "def label_encode(train, test):\n",
    "    for col in get_cat_columns(train):\n",
    "        le = LabelEncoder()\n",
    "        le.fit(list(train[col].astype(str).values) + list(test[col].astype(str).values))\n",
    "        train[col] = le.transform(list(train[col].astype(str).values))\n",
    "        test[col] = le.transform(list(test[col].astype(str).values))\n",
    "    return train, test\n",
    "\n",
    "def feature_process(df):\n",
    "    df.loc[~df['state'].isin(['FIN', 'INT', 'CON', 'REQ', 'RST']), 'state'] = 'others'\n",
    "    df.loc[~df['service'].isin(['-', 'dns', 'http', 'smtp', 'ftp-data', 'ftp', 'ssh', 'pop3']), 'service'] = 'others'\n",
    "    df.loc[df['proto'].isin(['igmp', 'icmp', 'rtp']), 'proto'] = 'igmp_icmp_rtp'\n",
    "    df.loc[~df['proto'].isin(['tcp', 'udp', 'arp', 'ospf', 'igmp_icmp_rtp']), 'proto'] = 'others'\n",
    "    return df\n",
    "\n",
    "def get_train_test(train, test, feature_engineer=True, label_encoding=False, scaler=None):\n",
    "    x_train, y_train = train.drop(['label'], axis=1), train['label']\n",
    "    x_test, y_test = test.drop(['label'], axis=1), test['label']\n",
    "    \n",
    "    x_train, x_test = feature_process(x_train), feature_process(x_test)\n",
    "    if scaler is not None:\n",
    "        categorical_columns = get_cat_columns(x_train)\n",
    "        non_categorical_columns = [x for x in x_train.columns if x not in categorical_columns]\n",
    "        x_train[non_categorical_columns] = scaler.fit_transform(x_train[non_categorical_columns])\n",
    "        x_test[non_categorical_columns] = scaler.transform(x_test[non_categorical_columns])\n",
    "    \n",
    "    if label_encoding:\n",
    "        x_train, x_test = label_encode(x_train, x_test)\n",
    "        features = x_train.columns\n",
    "    else:\n",
    "        x_train = pd.get_dummies(x_train)\n",
    "        x_test = pd.get_dummies(x_test)\n",
    "        print(\"Column mismatch {0}, {1}\".format(set(x_train.columns)- set(x_test.columns),  set(x_test.columns)- set(x_train.columns)))\n",
    "        features = list(set(x_train.columns) & set(x_test.columns))\n",
    "    print(f\"Number of features {len(features)}\")\n",
    "    x_train = x_train[features]\n",
    "    x_test = x_test[features]\n",
    "\n",
    "    return x_train, y_train, x_test, y_test\n",
    "\n",
    "def run_lgb(x, y, tr_idx, val_idx, param, num_round=100):\n",
    "    lgb_train = lgb.Dataset(x.iloc[tr_idx], y.iloc[tr_idx])\n",
    "    x_val, y_val = x.iloc[val_idx], y.iloc[val_idx]\n",
    "    validation = lgb.Dataset(x_val, y_val)\n",
    "    clf = lgb.train(param, lgb_train, num_round, valid_sets=[validation], early_stopping_rounds=50, verbose_eval=200, feval=lgb_f1_score)\n",
    "    return clf\n",
    "\n",
    "def false_alarm_rate(y_true, y_pred):\n",
    "    CM = metrics.confusion_matrix(y_true, y_pred)\n",
    "    TN, FN, TP, FP = CM[0][0], CM[1][0], CM[1][1], CM[0][1]\n",
    "    return (FP+FN)/(TP+TN+FP+FN)\n",
    "\n",
    "def results(y_test, y_prob):\n",
    "    threshold = 0.5\n",
    "    y_pred = np.where(y_prob >= threshold, 1, 0)\n",
    "    \n",
    "    acc = metrics.accuracy_score(y_test, y_pred)\n",
    "    pre = metrics.precision_score(y_test, y_pred)\n",
    "    rec = metrics.recall_score(y_test, y_pred) # it is also called detection rate or true positive rate\n",
    "    f1 = metrics.f1_score(y_test, y_pred)\n",
    "    print(f\"Acc {acc}, Precision {pre}, Recall {rec}, F1-score {f1}\")\n",
    "    \n",
    "    CM = metrics.confusion_matrix(y_test, y_pred)\n",
    "    TN, FN, TP, FP = CM[0][0], CM[1][0], CM[1][1], CM[0][1]\n",
    "    # false positive rate\n",
    "    FPR = FP/(FP+TN)\n",
    "    # false alarm rate \n",
    "    FAR = (FP+FN)/(TP+TN+FP+FN)\n",
    "    AUC = metrics.roc_auc_score(y_test, y_prob)\n",
    "    \n",
    "    print(\"FPR {0}, FAR {1}, AUC {2}\".format(FPR, FAR, AUC))\n",
    "    # print(metrics.classification_report(y_test, y_pred))\n",
    "    \n",
    "def test_run(x_train, y_train, x_test, y_test, param, num_round=2000):\n",
    "    start = time.clock()\n",
    "    \n",
    "    lgb_train = lgb.Dataset(x_train, y_train)\n",
    "    lgb_validation = lgb.Dataset(x_test, y_test)\n",
    "    clf = lgb.train(param, lgb_train, num_round, valid_sets=[lgb_validation], early_stopping_rounds=50, verbose_eval=200, feval=lgb_f1_score)\n",
    "    # clf = lgb.train(param, lgb_train, 2000, valid_sets=[lgb_validation], early_stopping_rounds=50, verbose_eval=200)\n",
    "    y_prob = clf.predict(x_test, num_iteration=clf.best_iteration)\n",
    "    \n",
    "    print()\n",
    "    results(y_test, y_prob)\n",
    "    print(\"Time spent {0}\".format(time.clock() - start))\n",
    "    return y_prob\n",
    "    \n",
    "def cross_validation(X, Y, param, kf, num_round=2000):\n",
    "    start = time.clock()\n",
    "    y_probs = []\n",
    "    y_vals = []\n",
    "\n",
    "    # for tr_idx, val_idx in tqdm(kf.split(X, Y), total=folds):\n",
    "    for tr_idx, val_idx in kf.split(X, Y):\n",
    "        clf = run_lgb(X, Y, tr_idx, val_idx, param, num_round)\n",
    "        x_val, y_val = X.iloc[val_idx], Y.iloc[val_idx]\n",
    "        y_prob = clf.predict(x_val, num_iteration=clf.best_iteration)\n",
    "        \n",
    "        y_probs.extend(y_prob)\n",
    "        y_vals.extend(y_val)\n",
    "\n",
    "    print()\n",
    "    results(y_vals, np.asarray(y_probs))\n",
    "    print(\"Time spent {0}\".format(time.clock() - start))"
   ]
  },
  {
   "cell_type": "code",
   "execution_count": 3,
   "metadata": {
    "_cell_guid": "79c7e3d0-c299-4dcb-8224-4455121ee9b0",
    "_uuid": "d629ff2d2480ee46fbb7e2d37f6b5fab8052498a"
   },
   "outputs": [
    {
     "name": "stdout",
     "output_type": "stream",
     "text": [
      "Train and test sets are reversed here. Fixing them.\n",
      "Dropping attack_cat\n",
      "Dropping id\n",
      "Dropping attack_cat\n",
      "Dropping id\n"
     ]
    }
   ],
   "source": [
    "train, test = input_train_test()"
   ]
  },
  {
   "cell_type": "markdown",
   "metadata": {},
   "source": [
    "# Train data"
   ]
  },
  {
   "cell_type": "code",
   "execution_count": 4,
   "metadata": {
    "_kg_hide-input": true
   },
   "outputs": [],
   "source": [
    "from sklearn.model_selection import StratifiedKFold\n",
    "import lightgbm as lgb\n",
    "from tqdm import tqdm_notebook as tqdm\n",
    "\n",
    "def lgb_accuracy(preds, data):\n",
    "    y_true = data.get_label()\n",
    "    y_pred = np.round(preds)\n",
    "    return 'acc', metrics.accuracy_score(y_true, y_pred), True\n",
    "\n",
    "def lgb_f1_score(preds, data):\n",
    "    y_true = data.get_label()\n",
    "    y_pred = np.round(preds) # scikits f1 doesn't like probabilities\n",
    "    return 'f1', metrics.f1_score(y_true, y_pred), True"
   ]
  },
  {
   "cell_type": "code",
   "execution_count": 5,
   "metadata": {},
   "outputs": [
    {
     "name": "stdout",
     "output_type": "stream",
     "text": [
      "Column mismatch set(), set()\n",
      "Number of features 54\n",
      "Time spent in total preprocessing 4.759016 s\n"
     ]
    }
   ],
   "source": [
    "folds = 10\n",
    "seed = 1\n",
    "num_round = 2000\n",
    "kf = StratifiedKFold(n_splits=folds, shuffle=True, random_state=seed)\n",
    "\n",
    "start = time.clock() \n",
    "drop_columns = ['is_sm_ips_ports', 'dwin', 'is_ftp_login', 'trans_depth', 'dttl', 'ct_ftp_cmd']\n",
    "for df in [train, test]:\n",
    "    df.drop(drop_columns, axis=1, inplace=True)\n",
    "x_train, y_train, x_test, y_test = get_train_test(train, test, feature_engineer=True, label_encoding=False, scaler=StandardScaler())\n",
    "print(\"Time spent in total preprocessing {0} s\".format(time.clock() - start))"
   ]
  },
  {
   "cell_type": "code",
   "execution_count": 6,
   "metadata": {},
   "outputs": [
    {
     "name": "stdout",
     "output_type": "stream",
     "text": [
      "Training until validation scores don't improve for 50 rounds\n",
      "[200]\tvalid_0's binary_logloss: 0.0776548\n",
      "[400]\tvalid_0's binary_logloss: 0.0636346\n",
      "[600]\tvalid_0's binary_logloss: 0.0536225\n",
      "[800]\tvalid_0's binary_logloss: 0.0459373\n",
      "[1000]\tvalid_0's binary_logloss: 0.0396676\n",
      "[1200]\tvalid_0's binary_logloss: 0.0345212\n",
      "[1400]\tvalid_0's binary_logloss: 0.0303571\n",
      "[1600]\tvalid_0's binary_logloss: 0.026872\n",
      "[1800]\tvalid_0's binary_logloss: 0.0237827\n",
      "[2000]\tvalid_0's binary_logloss: 0.0211797\n",
      "Did not meet early stopping. Best iteration is:\n",
      "[2000]\tvalid_0's binary_logloss: 0.0211797\n",
      "\n",
      "Acc 0.9961161394083529, Precision 0.9953495750329788, Recall 0.998960960608676, F1-score 0.9971519979925977\n",
      "FPR 0.009946428571428571, FAR 0.0038838605916471335, AUC 0.999927484806443\n",
      "Time spent 268.59143\n"
     ]
    }
   ],
   "source": [
    "param = {\n",
    "    'objective': 'binary', \n",
    "    'learning_rate': 0.1, \n",
    "    \"boost_from_average\":True,\n",
    "    \"metric\": 'binary_logloss' # 'auc'\n",
    "}\n",
    "start = time.clock()\n",
    "# test_run( x_train, y_train, x_train, y_train, param)\n",
    "clf = lgb.train(param, lgb.Dataset(x_train, y_train), 2000, valid_sets=[lgb.Dataset(x_train, y_train)], early_stopping_rounds=50, verbose_eval=200)\n",
    "y_prob = clf.predict(x_train, num_iteration=clf.best_iteration)\n",
    "print()\n",
    "results(y_train, y_prob)\n",
    "print(\"Time spent {0}\".format(time.clock() - start))"
   ]
  },
  {
   "cell_type": "code",
   "execution_count": 7,
   "metadata": {},
   "outputs": [
    {
     "name": "stdout",
     "output_type": "stream",
     "text": [
      "\n",
      "Acc 0.8688116406743429, Precision 0.8191345816158666, Recall 0.9775875761051795, F1-score 0.8913740910965172\n",
      "FPR 0.2644594594594595, FAR 0.1311883593256571, AUC 0.9809944714192707\n"
     ]
    }
   ],
   "source": [
    "y_prob = clf.predict(x_test, num_iteration=clf.best_iteration)\n",
    "print()\n",
    "results(y_test, y_prob)"
   ]
  },
  {
   "cell_type": "markdown",
   "metadata": {},
   "source": [
    "## Ten-fold cross validation"
   ]
  },
  {
   "cell_type": "markdown",
   "metadata": {},
   "source": [
    "After dropping irrelevant columns, feature engineering and applying oneHotEncoding. We found among different scaling StandardScaler is performing the best.\n",
    "\n",
    "|Preprocess| Param | Accuracy |F1-score |\n",
    "|:---:|:---:|:---:|:---:|:---:|:---:|\n",
    "|RobustScaler|learning rate 0.05|96.11| 97.16|\n",
    "||learning rate 0.1|95.19| 97.22|\n",
    "||learning rate 0.3|95.73| 96.88|\n",
    "|StandardScaler |learning rate 0.05|96.08| 97.14 |\n",
    "||learning rate 0.1| 96.20 | 97.23|\n",
    "||learning rate 0.3| 95.71 | 96.87|\n",
    "|MinMaxScaler |learning rate 0.05|96.08| 97.14\n",
    "| |learning rate 0.1|96.20|97.22 "
   ]
  },
  {
   "cell_type": "code",
   "execution_count": 8,
   "metadata": {
    "_kg_hide-output": true
   },
   "outputs": [
    {
     "name": "stdout",
     "output_type": "stream",
     "text": [
      "Training until validation scores don't improve for 50 rounds\n",
      "Early stopping, best iteration is:\n",
      "[121]\tvalid_0's binary_logloss: 0.0929967\tvalid_0's f1: 0.96977\n",
      "Training until validation scores don't improve for 50 rounds\n",
      "[200]\tvalid_0's binary_logloss: 0.0870685\tvalid_0's f1: 0.970869\n",
      "[400]\tvalid_0's binary_logloss: 0.0819235\tvalid_0's f1: 0.972575\n",
      "Early stopping, best iteration is:\n",
      "[361]\tvalid_0's binary_logloss: 0.0825926\tvalid_0's f1: 0.972861\n",
      "Training until validation scores don't improve for 50 rounds\n",
      "[200]\tvalid_0's binary_logloss: 0.0928118\tvalid_0's f1: 0.969198\n",
      "[400]\tvalid_0's binary_logloss: 0.088741\tvalid_0's f1: 0.970967\n",
      "Early stopping, best iteration is:\n",
      "[436]\tvalid_0's binary_logloss: 0.0883625\tvalid_0's f1: 0.971624\n",
      "Training until validation scores don't improve for 50 rounds\n",
      "[200]\tvalid_0's binary_logloss: 0.0882203\tvalid_0's f1: 0.970273\n",
      "Early stopping, best iteration is:\n",
      "[210]\tvalid_0's binary_logloss: 0.0878964\tvalid_0's f1: 0.970211\n",
      "Training until validation scores don't improve for 50 rounds\n",
      "[200]\tvalid_0's binary_logloss: 0.0851422\tvalid_0's f1: 0.971214\n",
      "[400]\tvalid_0's binary_logloss: 0.0809647\tvalid_0's f1: 0.972698\n",
      "Early stopping, best iteration is:\n",
      "[413]\tvalid_0's binary_logloss: 0.0807477\tvalid_0's f1: 0.973063\n",
      "Training until validation scores don't improve for 50 rounds\n",
      "[200]\tvalid_0's binary_logloss: 0.0903474\tvalid_0's f1: 0.970186\n",
      "[400]\tvalid_0's binary_logloss: 0.0856771\tvalid_0's f1: 0.972218\n",
      "[600]\tvalid_0's binary_logloss: 0.0836037\tvalid_0's f1: 0.973\n",
      "Early stopping, best iteration is:\n",
      "[564]\tvalid_0's binary_logloss: 0.0836913\tvalid_0's f1: 0.973333\n",
      "Training until validation scores don't improve for 50 rounds\n",
      "[200]\tvalid_0's binary_logloss: 0.0904898\tvalid_0's f1: 0.971112\n",
      "[400]\tvalid_0's binary_logloss: 0.0855424\tvalid_0's f1: 0.972937\n",
      "Early stopping, best iteration is:\n",
      "[465]\tvalid_0's binary_logloss: 0.0847514\tvalid_0's f1: 0.973185\n",
      "Training until validation scores don't improve for 50 rounds\n",
      "[200]\tvalid_0's binary_logloss: 0.0896449\tvalid_0's f1: 0.970367\n",
      "[400]\tvalid_0's binary_logloss: 0.0861096\tvalid_0's f1: 0.971823\n",
      "Early stopping, best iteration is:\n",
      "[438]\tvalid_0's binary_logloss: 0.0855655\tvalid_0's f1: 0.972362\n",
      "Training until validation scores don't improve for 50 rounds\n",
      "[200]\tvalid_0's binary_logloss: 0.0888363\tvalid_0's f1: 0.971068\n",
      "Early stopping, best iteration is:\n",
      "[297]\tvalid_0's binary_logloss: 0.0863381\tvalid_0's f1: 0.972495\n",
      "Training until validation scores don't improve for 50 rounds\n",
      "[200]\tvalid_0's binary_logloss: 0.0887736\tvalid_0's f1: 0.970226\n",
      "[400]\tvalid_0's binary_logloss: 0.0854331\tvalid_0's f1: 0.971702\n",
      "Early stopping, best iteration is:\n",
      "[486]\tvalid_0's binary_logloss: 0.0847988\tvalid_0's f1: 0.972516\n",
      "\n",
      "Acc 0.961811555768474, Precision 0.9654252022509978, Recall 0.9789510729757586, F1-score 0.9721410918894631\n",
      "FPR 0.07471428571428572, FAR 0.038188444231525995, AUC 0.994479891355743\n",
      "Time spent 628.102498\n"
     ]
    }
   ],
   "source": [
    "param = {\n",
    "    'objective': 'binary', \n",
    "    'learning_rate': 0.1, \n",
    "    \"boost_from_average\":True,\n",
    "    \"metric\": 'binary_logloss' # 'auc'\n",
    "}\n",
    "cross_validation(x_train, y_train, param, kf)"
   ]
  },
  {
   "cell_type": "markdown",
   "metadata": {},
   "source": [
    "## Five-fold cross validation"
   ]
  },
  {
   "cell_type": "code",
   "execution_count": 9,
   "metadata": {},
   "outputs": [
    {
     "name": "stdout",
     "output_type": "stream",
     "text": [
      "Training until validation scores don't improve for 50 rounds\n",
      "[200]\tvalid_0's binary_logloss: 0.0891891\tvalid_0's f1: 0.969969\n",
      "[400]\tvalid_0's binary_logloss: 0.0850312\tvalid_0's f1: 0.971909\n",
      "Early stopping, best iteration is:\n",
      "[455]\tvalid_0's binary_logloss: 0.0845862\tvalid_0's f1: 0.972279\n",
      "Training until validation scores don't improve for 50 rounds\n",
      "[200]\tvalid_0's binary_logloss: 0.0918073\tvalid_0's f1: 0.969483\n",
      "Early stopping, best iteration is:\n",
      "[328]\tvalid_0's binary_logloss: 0.0887961\tvalid_0's f1: 0.970875\n",
      "Training until validation scores don't improve for 50 rounds\n",
      "[200]\tvalid_0's binary_logloss: 0.089209\tvalid_0's f1: 0.970017\n",
      "[400]\tvalid_0's binary_logloss: 0.0848384\tvalid_0's f1: 0.972391\n",
      "Early stopping, best iteration is:\n",
      "[391]\tvalid_0's binary_logloss: 0.0849441\tvalid_0's f1: 0.972494\n",
      "Training until validation scores don't improve for 50 rounds\n",
      "[200]\tvalid_0's binary_logloss: 0.0905414\tvalid_0's f1: 0.9708\n",
      "[400]\tvalid_0's binary_logloss: 0.0864308\tvalid_0's f1: 0.97204\n",
      "Early stopping, best iteration is:\n",
      "[367]\tvalid_0's binary_logloss: 0.0866538\tvalid_0's f1: 0.972082\n",
      "Training until validation scores don't improve for 50 rounds\n",
      "[200]\tvalid_0's binary_logloss: 0.0899727\tvalid_0's f1: 0.970367\n",
      "[400]\tvalid_0's binary_logloss: 0.0859435\tvalid_0's f1: 0.972329\n",
      "Early stopping, best iteration is:\n",
      "[532]\tvalid_0's binary_logloss: 0.0849463\tvalid_0's f1: 0.97282\n",
      "\n",
      "Acc 0.9617773367324243, Precision 0.9656004828002414, Recall 0.9787080718277876, F1-score 0.9721100947973799\n",
      "FPR 0.07430357142857143, FAR 0.03822266326757575, AUC 0.9944317694972509\n",
      "Time spent 414.5320310000001\n"
     ]
    }
   ],
   "source": [
    "kf = StratifiedKFold(n_splits=5, shuffle=True, random_state=seed)\n",
    "cross_validation(x_train, y_train, param, kf)"
   ]
  },
  {
   "cell_type": "markdown",
   "metadata": {},
   "source": [
    "# Test data"
   ]
  },
  {
   "cell_type": "code",
   "execution_count": 10,
   "metadata": {},
   "outputs": [
    {
     "name": "stdout",
     "output_type": "stream",
     "text": [
      "Training until validation scores don't improve for 50 rounds\n",
      "[200]\tvalid_0's binary_logloss: 0.0361828\tvalid_0's f1: 0.988951\n",
      "[400]\tvalid_0's binary_logloss: 0.0203956\tvalid_0's f1: 0.995678\n",
      "[600]\tvalid_0's binary_logloss: 0.0123723\tvalid_0's f1: 0.99861\n",
      "[800]\tvalid_0's binary_logloss: 0.00774753\tvalid_0's f1: 0.999382\n",
      "[1000]\tvalid_0's binary_logloss: 0.00493171\tvalid_0's f1: 0.999614\n",
      "[1200]\tvalid_0's binary_logloss: 0.0031983\tvalid_0's f1: 0.99979\n",
      "Early stopping, best iteration is:\n",
      "[1236]\tvalid_0's binary_logloss: 0.00294144\tvalid_0's f1: 0.999801\n",
      "\n",
      "Acc 0.9997813729777001, Precision 0.9997132774591971, Recall 0.9998897026383129, F1-score 0.999801482265749\n",
      "FPR 0.00035135135135135135, FAR 0.00021862702229995628, AUC 0.99999988105771\n",
      "Time spent 249.51189699999986\n"
     ]
    }
   ],
   "source": [
    "param = {\n",
    "    'objective': 'binary', \n",
    "    'learning_rate': 0.1, \n",
    "    \"boost_from_average\":True,\n",
    "    \"metric\": 'binary_logloss' # 'auc'\n",
    "}\n",
    "y_prob = test_run(x_test, y_test, x_test, y_test, param)"
   ]
  },
  {
   "cell_type": "markdown",
   "metadata": {},
   "source": [
    "## Validate on test data\n",
    "Here the model trained on test data is being validated using test data."
   ]
  },
  {
   "cell_type": "markdown",
   "metadata": {},
   "source": [
    "|Param|Accuracy|F1-score|\n",
    "|:---:|:---:|:---:|:---:|\n",
    "|learning_rate 0.1 | 87.74 | 89.87\n",
    "|learning_rate 0.05 | 87.60 | 89.77\n",
    "|learning_rate 0.1, is_unbalance True | 91.87 | 92.9\n",
    "|learning_rate 0.05, is_unbalance True | 91.95 | 92.96"
   ]
  },
  {
   "cell_type": "code",
   "execution_count": 11,
   "metadata": {
    "_kg_hide-output": false
   },
   "outputs": [
    {
     "name": "stdout",
     "output_type": "stream",
     "text": [
      "Training until validation scores don't improve for 50 rounds\n",
      "Early stopping, best iteration is:\n",
      "[64]\tvalid_0's binary_logloss: 0.1853\tvalid_0's f1: 0.929638\n",
      "\n",
      "Acc 0.9194845260651995, Precision 0.8958900186166404, Recall 0.9660284126003706, F1-score 0.9296381603388068\n",
      "FPR 0.13754054054054055, FAR 0.08051547393480056, AUC 0.9864868024735227\n",
      "Time spent 37.99111300000004\n"
     ]
    }
   ],
   "source": [
    "param = {\n",
    "    'objective': 'binary',\n",
    "    'learning_rate': 0.05, \n",
    "    'boost_from_average':True,\n",
    "    'is_unbalance':True,\n",
    "    \"metric\": 'binary_logloss' # 'auc'\n",
    "}\n",
    "y_prob = test_run(x_train, y_train, x_test, y_test, param)"
   ]
  },
  {
   "cell_type": "code",
   "execution_count": 12,
   "metadata": {},
   "outputs": [
    {
     "name": "stdout",
     "output_type": "stream",
     "text": [
      "[[31911  5089]\n",
      " [ 1540 43792]]\n"
     ]
    },
    {
     "data": {
      "image/png": "[encoded data removed]",
      "text/plain": [
       "<Figure size 720x720 with 2 Axes>"
      ]
     },
     "metadata": {
      "needs_background": "light"
     },
     "output_type": "display_data"
    }
   ],
   "source": [
    "y_pred = np.where(y_prob >= 0.5, 1, 0)\n",
    "print(metrics.confusion_matrix(y_test, y_pred))\n",
    "\n",
    "target_names = ['Normal', 'Anomaly']\n",
    "cm = metrics.confusion_matrix(y_test, y_pred)\n",
    "# Normalize\n",
    "cmn = cm.astype('float') / cm.sum(axis=1)[:, np.newaxis]\n",
    "plt.rc('font', size=20) \n",
    "fig, ax = plt.subplots(figsize=(10,10))\n",
    "sns.heatmap(cmn, annot=True, fmt='.2f', xticklabels=target_names, yticklabels=target_names)\n",
    "\n",
    "plt.ylabel('Actual')\n",
    "plt.xlabel('Predicted')\n",
    " \n",
    "plt.show(block=False)"
   ]
  },
  {
   "cell_type": "markdown",
   "metadata": {},
   "source": [
    "## Ten-fold cross validation"
   ]
  },
  {
   "cell_type": "markdown",
   "metadata": {},
   "source": [
    "|Param|Accuracy| F1-score|\n",
    "|:---:|:---:|:---:|\n",
    "|learning_rate 0.05| 98.07 | 98.24\n",
    "|learning_rate 0.1| 98.18 | 98.34\n",
    "|learning_rate 0.3| 98.08 | 98.25\n",
    "|learning_rate 0.1, feature_fraction 0.5 | 98.14 | 98.30\n",
    "|learning_rate 0.05, feature_fraction 0.5| 98.04 | 98.21\n"
   ]
  },
  {
   "cell_type": "code",
   "execution_count": 13,
   "metadata": {},
   "outputs": [
    {
     "name": "stdout",
     "output_type": "stream",
     "text": [
      "Training until validation scores don't improve for 50 rounds\n",
      "[200]\tvalid_0's binary_logloss: 0.0482127\tvalid_0's f1: 0.983017\n",
      "Early stopping, best iteration is:\n",
      "[270]\tvalid_0's binary_logloss: 0.0459499\tvalid_0's f1: 0.985022\n",
      "Training until validation scores don't improve for 50 rounds\n",
      "[200]\tvalid_0's binary_logloss: 0.0568795\tvalid_0's f1: 0.980466\n",
      "Early stopping, best iteration is:\n",
      "[271]\tvalid_0's binary_logloss: 0.0544355\tvalid_0's f1: 0.982016\n",
      "Training until validation scores don't improve for 50 rounds\n",
      "[200]\tvalid_0's binary_logloss: 0.0522023\tvalid_0's f1: 0.981842\n",
      "Early stopping, best iteration is:\n",
      "[229]\tvalid_0's binary_logloss: 0.0514076\tvalid_0's f1: 0.982953\n",
      "Training until validation scores don't improve for 50 rounds\n",
      "[200]\tvalid_0's binary_logloss: 0.0516532\tvalid_0's f1: 0.982339\n",
      "Early stopping, best iteration is:\n",
      "[333]\tvalid_0's binary_logloss: 0.0477933\tvalid_0's f1: 0.984906\n",
      "Training until validation scores don't improve for 50 rounds\n",
      "[200]\tvalid_0's binary_logloss: 0.050421\tvalid_0's f1: 0.982728\n",
      "[400]\tvalid_0's binary_logloss: 0.0471405\tvalid_0's f1: 0.985507\n",
      "Early stopping, best iteration is:\n",
      "[395]\tvalid_0's binary_logloss: 0.0471604\tvalid_0's f1: 0.985616\n",
      "Training until validation scores don't improve for 50 rounds\n",
      "[200]\tvalid_0's binary_logloss: 0.0523314\tvalid_0's f1: 0.981592\n",
      "[400]\tvalid_0's binary_logloss: 0.0484329\tvalid_0's f1: 0.983392\n",
      "Early stopping, best iteration is:\n",
      "[416]\tvalid_0's binary_logloss: 0.0483049\tvalid_0's f1: 0.983498\n",
      "Training until validation scores don't improve for 50 rounds\n",
      "[200]\tvalid_0's binary_logloss: 0.0579025\tvalid_0's f1: 0.979727\n",
      "Early stopping, best iteration is:\n",
      "[163]\tvalid_0's binary_logloss: 0.0592219\tvalid_0's f1: 0.980162\n",
      "Training until validation scores don't improve for 50 rounds\n",
      "[200]\tvalid_0's binary_logloss: 0.0516403\tvalid_0's f1: 0.983577\n",
      "Early stopping, best iteration is:\n",
      "[239]\tvalid_0's binary_logloss: 0.0502346\tvalid_0's f1: 0.983817\n",
      "Training until validation scores don't improve for 50 rounds\n",
      "[200]\tvalid_0's binary_logloss: 0.0522372\tvalid_0's f1: 0.9829\n",
      "Early stopping, best iteration is:\n",
      "[291]\tvalid_0's binary_logloss: 0.0496223\tvalid_0's f1: 0.984462\n",
      "Training until validation scores don't improve for 50 rounds\n",
      "[200]\tvalid_0's binary_logloss: 0.0571176\tvalid_0's f1: 0.980632\n",
      "[400]\tvalid_0's binary_logloss: 0.0535907\tvalid_0's f1: 0.981984\n",
      "Early stopping, best iteration is:\n",
      "[398]\tvalid_0's binary_logloss: 0.0535503\tvalid_0's f1: 0.981871\n",
      "\n",
      "Acc 0.9818539571491036, Precision 0.9887615394907016, Recall 0.9781611223859525, F1-score 0.9834327663066379\n",
      "FPR 0.013621621621621621, FAR 0.018146042850896372, AUC 0.9982527279220454\n",
      "Time spent 281.1151239999999\n"
     ]
    }
   ],
   "source": [
    "param = {\n",
    "    'objective': 'binary',\n",
    "    'learning_rate': 0.1, \n",
    "    \"boost_from_average\":True,\n",
    "    # 'is_unbalance':True,\n",
    "    # \"feature_fraction\":0.5,\n",
    "    \"metric\": 'binary_logloss' # 'auc'\n",
    "}\n",
    "kf = StratifiedKFold(n_splits=10, shuffle=True, random_state=seed)\n",
    "cross_validation(x_test, y_test, param, kf, num_round=2000)"
   ]
  },
  {
   "cell_type": "markdown",
   "metadata": {},
   "source": [
    "## Five-fold cross validation"
   ]
  },
  {
   "cell_type": "code",
   "execution_count": 14,
   "metadata": {},
   "outputs": [
    {
     "name": "stdout",
     "output_type": "stream",
     "text": [
      "Training until validation scores don't improve for 50 rounds\n",
      "[200]\tvalid_0's binary_logloss: 0.0535638\tvalid_0's f1: 0.981693\n",
      "[400]\tvalid_0's binary_logloss: 0.0493049\tvalid_0's f1: 0.983088\n",
      "Early stopping, best iteration is:\n",
      "[360]\tvalid_0's binary_logloss: 0.0495075\tvalid_0's f1: 0.983421\n",
      "Training until validation scores don't improve for 50 rounds\n",
      "[200]\tvalid_0's binary_logloss: 0.0533186\tvalid_0's f1: 0.982038\n",
      "Early stopping, best iteration is:\n",
      "[262]\tvalid_0's binary_logloss: 0.0515242\tvalid_0's f1: 0.983376\n",
      "Training until validation scores don't improve for 50 rounds\n",
      "[200]\tvalid_0's binary_logloss: 0.0513647\tvalid_0's f1: 0.982215\n",
      "[400]\tvalid_0's binary_logloss: 0.0470931\tvalid_0's f1: 0.983674\n",
      "Early stopping, best iteration is:\n",
      "[388]\tvalid_0's binary_logloss: 0.0471132\tvalid_0's f1: 0.983784\n",
      "Training until validation scores don't improve for 50 rounds\n",
      "Early stopping, best iteration is:\n",
      "[149]\tvalid_0's binary_logloss: 0.0583507\tvalid_0's f1: 0.980977\n",
      "Training until validation scores don't improve for 50 rounds\n",
      "[200]\tvalid_0's binary_logloss: 0.0564075\tvalid_0's f1: 0.980427\n",
      "Early stopping, best iteration is:\n",
      "[161]\tvalid_0's binary_logloss: 0.0580155\tvalid_0's f1: 0.980649\n",
      "\n",
      "Acc 0.9807729679832872, Precision 0.9879106907858051, Recall 0.977036089296744, F1-score 0.9824432983973825\n",
      "FPR 0.014648648648648649, FAR 0.01922703201671282, AUC 0.9981241217945201\n",
      "Time spent 155.66113700000028\n"
     ]
    }
   ],
   "source": [
    "kf = StratifiedKFold(n_splits=5, shuffle=True, random_state=seed)\n",
    "cross_validation(x_test, y_test, param, kf)"
   ]
  },
  {
   "cell_type": "markdown",
   "metadata": {},
   "source": [
    "# Combined data\n",
    "Here we combined both train and test set. Then evaluated their ten-fold cross validation performance."
   ]
  },
  {
   "cell_type": "code",
   "execution_count": 15,
   "metadata": {},
   "outputs": [],
   "source": [
    "total = pd.concat([train, test], axis=0)\n",
    "X, Y = total.drop(['label'], axis=1), total['label']\n",
    "categorical_columns = get_cat_columns(X)\n",
    "non_categorical_columns = [col for col in X.columns if col not in categorical_columns]\n",
    "X = feature_process(X)\n",
    "X[non_categorical_columns] = StandardScaler().fit_transform(X[non_categorical_columns])\n",
    "X = pd.get_dummies(X)"
   ]
  },
  {
   "cell_type": "markdown",
   "metadata": {},
   "source": [
    "| Param | Accuracy | F1-score\n",
    "|:---:|:---:|:---:|\n",
    "|learning rate 0.05 | 95.11 | 96.15\n",
    "|learning rate 0.01 | 93.69 | 95.07\n",
    "|learning rate 0.1 | 95.09 | 96.07\n",
    "|learning rate 0.1, is_unbalance True | 95.16 | 96.19\n",
    "|learning rate 0.1, bagging_fraction 0.8 | 95.14 | 96.17\n",
    "|learning rate 0.1, feature_fraction 0.5 | 95.20 | 96.22\n",
    "|learning rate 0.1, feature_fraction 0.5, bagging_fraction 0.8 | 95.05 | 96.11"
   ]
  },
  {
   "cell_type": "code",
   "execution_count": 16,
   "metadata": {
    "_kg_hide-output": true
   },
   "outputs": [
    {
     "name": "stdout",
     "output_type": "stream",
     "text": [
      "Training until validation scores don't improve for 50 rounds\n",
      "[200]\tvalid_0's binary_logloss: 0.108583\tvalid_0's f1: 0.958986\n",
      "[400]\tvalid_0's binary_logloss: 0.104327\tvalid_0's f1: 0.961015\n",
      "Early stopping, best iteration is:\n",
      "[400]\tvalid_0's binary_logloss: 0.104327\tvalid_0's f1: 0.961015\n",
      "Training until validation scores don't improve for 50 rounds\n",
      "[200]\tvalid_0's binary_logloss: 0.108378\tvalid_0's f1: 0.95867\n",
      "[400]\tvalid_0's binary_logloss: 0.104467\tvalid_0's f1: 0.961183\n",
      "[600]\tvalid_0's binary_logloss: 0.102306\tvalid_0's f1: 0.962104\n",
      "[800]\tvalid_0's binary_logloss: 0.100991\tvalid_0's f1: 0.962723\n",
      "Early stopping, best iteration is:\n",
      "[901]\tvalid_0's binary_logloss: 0.100696\tvalid_0's f1: 0.963265\n",
      "Training until validation scores don't improve for 50 rounds\n",
      "[200]\tvalid_0's binary_logloss: 0.109639\tvalid_0's f1: 0.958035\n",
      "Early stopping, best iteration is:\n",
      "[328]\tvalid_0's binary_logloss: 0.106194\tvalid_0's f1: 0.960779\n",
      "Training until validation scores don't improve for 50 rounds\n",
      "[200]\tvalid_0's binary_logloss: 0.108464\tvalid_0's f1: 0.958849\n",
      "[400]\tvalid_0's binary_logloss: 0.10384\tvalid_0's f1: 0.961198\n",
      "Early stopping, best iteration is:\n",
      "[422]\tvalid_0's binary_logloss: 0.103588\tvalid_0's f1: 0.961484\n",
      "Training until validation scores don't improve for 50 rounds\n",
      "[200]\tvalid_0's binary_logloss: 0.109992\tvalid_0's f1: 0.957926\n",
      "[400]\tvalid_0's binary_logloss: 0.105855\tvalid_0's f1: 0.96004\n",
      "Early stopping, best iteration is:\n",
      "[524]\tvalid_0's binary_logloss: 0.104735\tvalid_0's f1: 0.960835\n",
      "\n",
      "Acc 0.9510814093832105, Precision 0.9678209293167946, Recall 0.9552142731352438, F1-score 0.9614762791067264\n",
      "FPR 0.056236559139784946, FAR 0.0489185906167895, AUC 0.9924826274802411\n",
      "Time spent 519.276269\n"
     ]
    }
   ],
   "source": [
    "param = {\n",
    "    'objective': 'binary',\n",
    "    'learning_rate': 0.1, \n",
    "    \"boost_from_average\":True,\n",
    "    # 'is_unbalance':True,\n",
    "    # \"bagging_fraction\":0.8,\n",
    "    \"feature_fraction\":0.5,\n",
    "    # \"bagging_freq\":1,\n",
    "    \"metric\": 'binary_logloss' # 'auc'\n",
    "}\n",
    "cross_validation(X, Y, param, kf, num_round=2000)"
   ]
  }
 ],
 "metadata": {
  "kernelspec": {
   "display_name": "Python 3",
   "language": "python",
   "name": "python3"
  },
  "language_info": {
   "codemirror_mode": {
    "name": "ipython",
    "version": 3
   },
   "file_extension": ".py",
   "mimetype": "text/x-python",
   "name": "python",
   "nbconvert_exporter": "python",
   "pygments_lexer": "ipython3",
   "version": "3.6.6"
  }
 },
 "nbformat": 4,
 "nbformat_minor": 1
}
